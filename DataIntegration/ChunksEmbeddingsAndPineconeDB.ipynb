{
  "nbformat": 4,
  "nbformat_minor": 0,
  "metadata": {
    "colab": {
      "provenance": [],
      "gpuType": "T4"
    },
    "kernelspec": {
      "name": "python3",
      "display_name": "Python 3"
    },
    "language_info": {
      "name": "python"
    },
    "accelerator": "GPU"
  },
  "cells": [
    {
      "cell_type": "code",
      "execution_count": 1,
      "metadata": {
        "colab": {
          "base_uri": "https://localhost:8080/"
        },
        "id": "vQbkR4x_npJk",
        "outputId": "e1822fa5-462d-4894-9766-588c6f021d73"
      },
      "outputs": [
        {
          "output_type": "stream",
          "name": "stdout",
          "text": [
            "Mounted at /content/drive\n"
          ]
        }
      ],
      "source": [
        "from google.colab import drive\n",
        "drive.mount('/content/drive')"
      ]
    },
    {
      "cell_type": "code",
      "source": [
        "import pandas as pd\n",
        "\n",
        "#Read data from chunks csv file\n",
        "df = pd.read_csv('/content/drive/MyDrive/INLPT_Project/csv_files/chunks.csv')"
      ],
      "metadata": {
        "id": "GWVI_3nMYIgl"
      },
      "execution_count": 2,
      "outputs": []
    },
    {
      "cell_type": "code",
      "source": [
        "# Display the DataFrame containing chunks\n",
        "df"
      ],
      "metadata": {
        "colab": {
          "base_uri": "https://localhost:8080/",
          "height": 475
        },
        "id": "fkBlxi99vOAS",
        "outputId": "384c0eb9-1609-428a-c1e0-fc34997689f6"
      },
      "execution_count": 32,
      "outputs": [
        {
          "output_type": "execute_result",
          "data": {
            "text/plain": [
              "       Unnamed: 0     id    CELEX number  \\\n",
              "0               0      0  21975A1201(01)   \n",
              "1               1      1  21975A1201(01)   \n",
              "2               2      2  21975A1201(01)   \n",
              "3               3      3  21975A1201(01)   \n",
              "4               4      4  21975A1201(01)   \n",
              "...           ...    ...             ...   \n",
              "25792       25792  25792      32023R2633   \n",
              "25793       25793  25793      42009D0913   \n",
              "25794       25794  25794      42009D0913   \n",
              "25795       25795  25795      42010D0349   \n",
              "25796       25796  25796      42010D0349   \n",
              "\n",
              "                                                    text  \\\n",
              "0      Avis juridique important Cooperation Agreement...   \n",
              "1      EUROPEAN ATOMIC ENERGY COMMUNITY AND THE INTER...   \n",
              "2      Contracting Parties shall consult each other r...   \n",
              "3      with respect to items on their agenda in which...   \n",
              "4      confidential nature of certain information and...   \n",
              "...                                                  ...   \n",
              "25792  (1)  The Annex is subject to the pro rata obli...   \n",
              "25793  DECISION TAKEN BY COMMON AGREEMENT BETWEEN THE...   \n",
              "25794  The location of the seat of this Agency should...   \n",
              "25795  DECISION TAKEN BY COMMON ACCORD BETWEEN THE RE...   \n",
              "25796  HAVE ADOPTED THIS DECISION:\\nThe Office of the...   \n",
              "\n",
              "                                                  extras  \n",
              "0                                                    NaN  \n",
              "1                                                    NaN  \n",
              "2                                                    NaN  \n",
              "3                                                    NaN  \n",
              "4                                                    NaN  \n",
              "...                                                  ...  \n",
              "25792    Section: 'ANNEX Footnotes'; Section: 'Document'  \n",
              "25793      Section: 'Document', (1); Section: 'Document'  \n",
              "25794  Section: 'Document', Article 2; Section: 'Docu...  \n",
              "25795  Section: 'Document', (1); Section: 'Document',...  \n",
              "25796  Section: 'Document', Article 3; Section: 'Docu...  \n",
              "\n",
              "[25797 rows x 5 columns]"
            ],
            "text/html": [
              "\n",
              "  <div id=\"df-f0b47cfc-3bea-4bd1-bf97-142e625aa953\" class=\"colab-df-container\">\n",
              "    <div>\n",
              "<style scoped>\n",
              "    .dataframe tbody tr th:only-of-type {\n",
              "        vertical-align: middle;\n",
              "    }\n",
              "\n",
              "    .dataframe tbody tr th {\n",
              "        vertical-align: top;\n",
              "    }\n",
              "\n",
              "    .dataframe thead th {\n",
              "        text-align: right;\n",
              "    }\n",
              "</style>\n",
              "<table border=\"1\" class=\"dataframe\">\n",
              "  <thead>\n",
              "    <tr style=\"text-align: right;\">\n",
              "      <th></th>\n",
              "      <th>Unnamed: 0</th>\n",
              "      <th>id</th>\n",
              "      <th>CELEX number</th>\n",
              "      <th>text</th>\n",
              "      <th>extras</th>\n",
              "    </tr>\n",
              "  </thead>\n",
              "  <tbody>\n",
              "    <tr>\n",
              "      <th>0</th>\n",
              "      <td>0</td>\n",
              "      <td>0</td>\n",
              "      <td>21975A1201(01)</td>\n",
              "      <td>Avis juridique important Cooperation Agreement...</td>\n",
              "      <td>NaN</td>\n",
              "    </tr>\n",
              "    <tr>\n",
              "      <th>1</th>\n",
              "      <td>1</td>\n",
              "      <td>1</td>\n",
              "      <td>21975A1201(01)</td>\n",
              "      <td>EUROPEAN ATOMIC ENERGY COMMUNITY AND THE INTER...</td>\n",
              "      <td>NaN</td>\n",
              "    </tr>\n",
              "    <tr>\n",
              "      <th>2</th>\n",
              "      <td>2</td>\n",
              "      <td>2</td>\n",
              "      <td>21975A1201(01)</td>\n",
              "      <td>Contracting Parties shall consult each other r...</td>\n",
              "      <td>NaN</td>\n",
              "    </tr>\n",
              "    <tr>\n",
              "      <th>3</th>\n",
              "      <td>3</td>\n",
              "      <td>3</td>\n",
              "      <td>21975A1201(01)</td>\n",
              "      <td>with respect to items on their agenda in which...</td>\n",
              "      <td>NaN</td>\n",
              "    </tr>\n",
              "    <tr>\n",
              "      <th>4</th>\n",
              "      <td>4</td>\n",
              "      <td>4</td>\n",
              "      <td>21975A1201(01)</td>\n",
              "      <td>confidential nature of certain information and...</td>\n",
              "      <td>NaN</td>\n",
              "    </tr>\n",
              "    <tr>\n",
              "      <th>...</th>\n",
              "      <td>...</td>\n",
              "      <td>...</td>\n",
              "      <td>...</td>\n",
              "      <td>...</td>\n",
              "      <td>...</td>\n",
              "    </tr>\n",
              "    <tr>\n",
              "      <th>25792</th>\n",
              "      <td>25792</td>\n",
              "      <td>25792</td>\n",
              "      <td>32023R2633</td>\n",
              "      <td>(1)  The Annex is subject to the pro rata obli...</td>\n",
              "      <td>Section: 'ANNEX Footnotes'; Section: 'Document'</td>\n",
              "    </tr>\n",
              "    <tr>\n",
              "      <th>25793</th>\n",
              "      <td>25793</td>\n",
              "      <td>25793</td>\n",
              "      <td>42009D0913</td>\n",
              "      <td>DECISION TAKEN BY COMMON AGREEMENT BETWEEN THE...</td>\n",
              "      <td>Section: 'Document', (1); Section: 'Document'</td>\n",
              "    </tr>\n",
              "    <tr>\n",
              "      <th>25794</th>\n",
              "      <td>25794</td>\n",
              "      <td>25794</td>\n",
              "      <td>42009D0913</td>\n",
              "      <td>The location of the seat of this Agency should...</td>\n",
              "      <td>Section: 'Document', Article 2; Section: 'Docu...</td>\n",
              "    </tr>\n",
              "    <tr>\n",
              "      <th>25795</th>\n",
              "      <td>25795</td>\n",
              "      <td>25795</td>\n",
              "      <td>42010D0349</td>\n",
              "      <td>DECISION TAKEN BY COMMON ACCORD BETWEEN THE RE...</td>\n",
              "      <td>Section: 'Document', (1); Section: 'Document',...</td>\n",
              "    </tr>\n",
              "    <tr>\n",
              "      <th>25796</th>\n",
              "      <td>25796</td>\n",
              "      <td>25796</td>\n",
              "      <td>42010D0349</td>\n",
              "      <td>HAVE ADOPTED THIS DECISION:\\nThe Office of the...</td>\n",
              "      <td>Section: 'Document', Article 3; Section: 'Docu...</td>\n",
              "    </tr>\n",
              "  </tbody>\n",
              "</table>\n",
              "<p>25797 rows × 5 columns</p>\n",
              "</div>\n",
              "    <div class=\"colab-df-buttons\">\n",
              "\n",
              "  <div class=\"colab-df-container\">\n",
              "    <button class=\"colab-df-convert\" onclick=\"convertToInteractive('df-f0b47cfc-3bea-4bd1-bf97-142e625aa953')\"\n",
              "            title=\"Convert this dataframe to an interactive table.\"\n",
              "            style=\"display:none;\">\n",
              "\n",
              "  <svg xmlns=\"http://www.w3.org/2000/svg\" height=\"24px\" viewBox=\"0 -960 960 960\">\n",
              "    <path d=\"M120-120v-720h720v720H120Zm60-500h600v-160H180v160Zm220 220h160v-160H400v160Zm0 220h160v-160H400v160ZM180-400h160v-160H180v160Zm440 0h160v-160H620v160ZM180-180h160v-160H180v160Zm440 0h160v-160H620v160Z\"/>\n",
              "  </svg>\n",
              "    </button>\n",
              "\n",
              "  <style>\n",
              "    .colab-df-container {\n",
              "      display:flex;\n",
              "      gap: 12px;\n",
              "    }\n",
              "\n",
              "    .colab-df-convert {\n",
              "      background-color: #E8F0FE;\n",
              "      border: none;\n",
              "      border-radius: 50%;\n",
              "      cursor: pointer;\n",
              "      display: none;\n",
              "      fill: #1967D2;\n",
              "      height: 32px;\n",
              "      padding: 0 0 0 0;\n",
              "      width: 32px;\n",
              "    }\n",
              "\n",
              "    .colab-df-convert:hover {\n",
              "      background-color: #E2EBFA;\n",
              "      box-shadow: 0px 1px 2px rgba(60, 64, 67, 0.3), 0px 1px 3px 1px rgba(60, 64, 67, 0.15);\n",
              "      fill: #174EA6;\n",
              "    }\n",
              "\n",
              "    .colab-df-buttons div {\n",
              "      margin-bottom: 4px;\n",
              "    }\n",
              "\n",
              "    [theme=dark] .colab-df-convert {\n",
              "      background-color: #3B4455;\n",
              "      fill: #D2E3FC;\n",
              "    }\n",
              "\n",
              "    [theme=dark] .colab-df-convert:hover {\n",
              "      background-color: #434B5C;\n",
              "      box-shadow: 0px 1px 3px 1px rgba(0, 0, 0, 0.15);\n",
              "      filter: drop-shadow(0px 1px 2px rgba(0, 0, 0, 0.3));\n",
              "      fill: #FFFFFF;\n",
              "    }\n",
              "  </style>\n",
              "\n",
              "    <script>\n",
              "      const buttonEl =\n",
              "        document.querySelector('#df-f0b47cfc-3bea-4bd1-bf97-142e625aa953 button.colab-df-convert');\n",
              "      buttonEl.style.display =\n",
              "        google.colab.kernel.accessAllowed ? 'block' : 'none';\n",
              "\n",
              "      async function convertToInteractive(key) {\n",
              "        const element = document.querySelector('#df-f0b47cfc-3bea-4bd1-bf97-142e625aa953');\n",
              "        const dataTable =\n",
              "          await google.colab.kernel.invokeFunction('convertToInteractive',\n",
              "                                                    [key], {});\n",
              "        if (!dataTable) return;\n",
              "\n",
              "        const docLinkHtml = 'Like what you see? Visit the ' +\n",
              "          '<a target=\"_blank\" href=https://colab.research.google.com/notebooks/data_table.ipynb>data table notebook</a>'\n",
              "          + ' to learn more about interactive tables.';\n",
              "        element.innerHTML = '';\n",
              "        dataTable['output_type'] = 'display_data';\n",
              "        await google.colab.output.renderOutput(dataTable, element);\n",
              "        const docLink = document.createElement('div');\n",
              "        docLink.innerHTML = docLinkHtml;\n",
              "        element.appendChild(docLink);\n",
              "      }\n",
              "    </script>\n",
              "  </div>\n",
              "\n",
              "\n",
              "<div id=\"df-07eba894-3d1c-4f73-85fb-79410fe033f0\">\n",
              "  <button class=\"colab-df-quickchart\" onclick=\"quickchart('df-07eba894-3d1c-4f73-85fb-79410fe033f0')\"\n",
              "            title=\"Suggest charts\"\n",
              "            style=\"display:none;\">\n",
              "\n",
              "<svg xmlns=\"http://www.w3.org/2000/svg\" height=\"24px\"viewBox=\"0 0 24 24\"\n",
              "     width=\"24px\">\n",
              "    <g>\n",
              "        <path d=\"M19 3H5c-1.1 0-2 .9-2 2v14c0 1.1.9 2 2 2h14c1.1 0 2-.9 2-2V5c0-1.1-.9-2-2-2zM9 17H7v-7h2v7zm4 0h-2V7h2v10zm4 0h-2v-4h2v4z\"/>\n",
              "    </g>\n",
              "</svg>\n",
              "  </button>\n",
              "\n",
              "<style>\n",
              "  .colab-df-quickchart {\n",
              "      --bg-color: #E8F0FE;\n",
              "      --fill-color: #1967D2;\n",
              "      --hover-bg-color: #E2EBFA;\n",
              "      --hover-fill-color: #174EA6;\n",
              "      --disabled-fill-color: #AAA;\n",
              "      --disabled-bg-color: #DDD;\n",
              "  }\n",
              "\n",
              "  [theme=dark] .colab-df-quickchart {\n",
              "      --bg-color: #3B4455;\n",
              "      --fill-color: #D2E3FC;\n",
              "      --hover-bg-color: #434B5C;\n",
              "      --hover-fill-color: #FFFFFF;\n",
              "      --disabled-bg-color: #3B4455;\n",
              "      --disabled-fill-color: #666;\n",
              "  }\n",
              "\n",
              "  .colab-df-quickchart {\n",
              "    background-color: var(--bg-color);\n",
              "    border: none;\n",
              "    border-radius: 50%;\n",
              "    cursor: pointer;\n",
              "    display: none;\n",
              "    fill: var(--fill-color);\n",
              "    height: 32px;\n",
              "    padding: 0;\n",
              "    width: 32px;\n",
              "  }\n",
              "\n",
              "  .colab-df-quickchart:hover {\n",
              "    background-color: var(--hover-bg-color);\n",
              "    box-shadow: 0 1px 2px rgba(60, 64, 67, 0.3), 0 1px 3px 1px rgba(60, 64, 67, 0.15);\n",
              "    fill: var(--button-hover-fill-color);\n",
              "  }\n",
              "\n",
              "  .colab-df-quickchart-complete:disabled,\n",
              "  .colab-df-quickchart-complete:disabled:hover {\n",
              "    background-color: var(--disabled-bg-color);\n",
              "    fill: var(--disabled-fill-color);\n",
              "    box-shadow: none;\n",
              "  }\n",
              "\n",
              "  .colab-df-spinner {\n",
              "    border: 2px solid var(--fill-color);\n",
              "    border-color: transparent;\n",
              "    border-bottom-color: var(--fill-color);\n",
              "    animation:\n",
              "      spin 1s steps(1) infinite;\n",
              "  }\n",
              "\n",
              "  @keyframes spin {\n",
              "    0% {\n",
              "      border-color: transparent;\n",
              "      border-bottom-color: var(--fill-color);\n",
              "      border-left-color: var(--fill-color);\n",
              "    }\n",
              "    20% {\n",
              "      border-color: transparent;\n",
              "      border-left-color: var(--fill-color);\n",
              "      border-top-color: var(--fill-color);\n",
              "    }\n",
              "    30% {\n",
              "      border-color: transparent;\n",
              "      border-left-color: var(--fill-color);\n",
              "      border-top-color: var(--fill-color);\n",
              "      border-right-color: var(--fill-color);\n",
              "    }\n",
              "    40% {\n",
              "      border-color: transparent;\n",
              "      border-right-color: var(--fill-color);\n",
              "      border-top-color: var(--fill-color);\n",
              "    }\n",
              "    60% {\n",
              "      border-color: transparent;\n",
              "      border-right-color: var(--fill-color);\n",
              "    }\n",
              "    80% {\n",
              "      border-color: transparent;\n",
              "      border-right-color: var(--fill-color);\n",
              "      border-bottom-color: var(--fill-color);\n",
              "    }\n",
              "    90% {\n",
              "      border-color: transparent;\n",
              "      border-bottom-color: var(--fill-color);\n",
              "    }\n",
              "  }\n",
              "</style>\n",
              "\n",
              "  <script>\n",
              "    async function quickchart(key) {\n",
              "      const quickchartButtonEl =\n",
              "        document.querySelector('#' + key + ' button');\n",
              "      quickchartButtonEl.disabled = true;  // To prevent multiple clicks.\n",
              "      quickchartButtonEl.classList.add('colab-df-spinner');\n",
              "      try {\n",
              "        const charts = await google.colab.kernel.invokeFunction(\n",
              "            'suggestCharts', [key], {});\n",
              "      } catch (error) {\n",
              "        console.error('Error during call to suggestCharts:', error);\n",
              "      }\n",
              "      quickchartButtonEl.classList.remove('colab-df-spinner');\n",
              "      quickchartButtonEl.classList.add('colab-df-quickchart-complete');\n",
              "    }\n",
              "    (() => {\n",
              "      let quickchartButtonEl =\n",
              "        document.querySelector('#df-07eba894-3d1c-4f73-85fb-79410fe033f0 button');\n",
              "      quickchartButtonEl.style.display =\n",
              "        google.colab.kernel.accessAllowed ? 'block' : 'none';\n",
              "    })();\n",
              "  </script>\n",
              "</div>\n",
              "    </div>\n",
              "  </div>\n"
            ],
            "application/vnd.google.colaboratory.intrinsic+json": {
              "type": "dataframe",
              "variable_name": "df",
              "summary": "{\n  \"name\": \"df\",\n  \"rows\": 25797,\n  \"fields\": [\n    {\n      \"column\": \"Unnamed: 0\",\n      \"properties\": {\n        \"dtype\": \"number\",\n        \"std\": 7447,\n        \"min\": 0,\n        \"max\": 25796,\n        \"num_unique_values\": 25797,\n        \"samples\": [\n          14976,\n          2222,\n          17020\n        ],\n        \"semantic_type\": \"\",\n        \"description\": \"\"\n      }\n    },\n    {\n      \"column\": \"id\",\n      \"properties\": {\n        \"dtype\": \"number\",\n        \"std\": 7447,\n        \"min\": 0,\n        \"max\": 25796,\n        \"num_unique_values\": 25797,\n        \"samples\": [\n          14976,\n          2222,\n          17020\n        ],\n        \"semantic_type\": \"\",\n        \"description\": \"\"\n      }\n    },\n    {\n      \"column\": \"CELEX number\",\n      \"properties\": {\n        \"dtype\": \"category\",\n        \"num_unique_values\": 537,\n        \"samples\": [\n          \"32022D0608\",\n          \"31979D0024\",\n          \"32012D0218\"\n        ],\n        \"semantic_type\": \"\",\n        \"description\": \"\"\n      }\n    },\n    {\n      \"column\": \"text\",\n      \"properties\": {\n        \"dtype\": \"string\",\n        \"num_unique_values\": 25218,\n        \"samples\": [\n          \"residual costs resulting from administrative, legal or tax provisions and costs in connection with maintaining access to coal reserves after mining has stopped, may be considered compatible with the common market provided that the amount paid does not exceed the costs. IX With respect to the new legal and regulatory framework established for the Untied Kingdom coal industry by the Coal Industry Act 1994, the United Kingdom Government will ensure that the aid granted pursuant to this Decision gives rise to no discrimination between producers, purchasers or users on the Community coal market.\",\n          \"IIAreas of cooperationThe areas of cooperation under this Agreement may include the following:1. tokamaks, including the large projects of the present generation and activities related to those of the next generation;2. alternative lines to tokamaks;3. magnetic fusion energy technology;4. plasma theory and applied plasma physics;5. program policies and plans; and6. other areas as mutually agreed in writing.Article IIIForms of cooperation1. The forms of cooperation under this Agreement may include, but are not limited to, the following:(a) exchange and provision of information and data on scientific and technical\",\n          \"several regulatory authorities, pursuant to a recommendation from the Agency in accordance with Article 34;\\nTSOs of a capacity calculation region, together with all concerned TSOs whose control areas, including interconnectors, are within the geographic area in which the bidding zone configuration shall be assessed in accordance with paragraph 2(a);\\none single regulatory authority or TSO with the approval of its competent regulatory authority, for the bidding zones inside the TSO's control area, if the bidding zone configuration has negligible impact on neighbouring TSOs' control areas, including interconnectors, and the review of bidding zone configuration is necessary to improve efficiency, or to maintain operational security;\\nMember States in a capacity calculation region.\\n   If a review is launched in accordance with paragraph 1(a),(b), (c) or (e), the entity launching the review shall specify:\"\n        ],\n        \"semantic_type\": \"\",\n        \"description\": \"\"\n      }\n    },\n    {\n      \"column\": \"extras\",\n      \"properties\": {\n        \"dtype\": \"category\",\n        \"num_unique_values\": 5673,\n        \"samples\": [\n          \"Section: 'ANNEX II', 20; Section: 'ANNEX II', 19\",\n          \"Section: 'ANNEX', Article 8, (j); Section: 'ANNEX', Article 8, (k); Section: 'ANNEX', Article 8, (i); Section: 'ANNEX', Article 8, (n); Section: 'ANNEX', Article 8, (h); Section: 'ANNEX', Article 8, (l); Section: 'ANNEX', Article 8, (m)\",\n          \"Section: 'ANNEX I Footnotes'; Section: 'ANNEX I', (1); Section: 'ANNEX I', (3); Section: 'ANNEX I', (2)\"\n        ],\n        \"semantic_type\": \"\",\n        \"description\": \"\"\n      }\n    }\n  ]\n}"
            }
          },
          "metadata": {},
          "execution_count": 32
        }
      ]
    },
    {
      "cell_type": "code",
      "source": [
        "%pip install python-dotenv"
      ],
      "metadata": {
        "colab": {
          "base_uri": "https://localhost:8080/"
        },
        "id": "gF1r93lVVqjV",
        "outputId": "652c8753-89f6-4df1-aa46-d5b8707080d7"
      },
      "execution_count": 3,
      "outputs": [
        {
          "output_type": "stream",
          "name": "stdout",
          "text": [
            "Collecting python-dotenv\n",
            "  Downloading python_dotenv-1.0.1-py3-none-any.whl (19 kB)\n",
            "Installing collected packages: python-dotenv\n",
            "Successfully installed python-dotenv-1.0.1\n"
          ]
        }
      ]
    },
    {
      "cell_type": "code",
      "source": [
        "import os\n",
        "from dotenv import load_dotenv\n",
        "\n",
        "# load environment variables from .env file\n",
        "from dotenv import load_dotenv, find_dotenv\n",
        "_ = load_dotenv(find_dotenv())"
      ],
      "metadata": {
        "id": "Pz5TXu0kWc6e"
      },
      "execution_count": 4,
      "outputs": []
    },
    {
      "cell_type": "code",
      "source": [
        "%pip install pinecone-client\n"
      ],
      "metadata": {
        "colab": {
          "base_uri": "https://localhost:8080/"
        },
        "id": "hPNRnBYdVWff",
        "outputId": "cd8829c7-5c3d-4edf-ea76-96ef5c8991fd"
      },
      "execution_count": 28,
      "outputs": [
        {
          "output_type": "stream",
          "name": "stdout",
          "text": [
            "Requirement already satisfied: pinecone-client in /usr/local/lib/python3.10/dist-packages (3.1.0)\n",
            "Requirement already satisfied: certifi>=2019.11.17 in /usr/local/lib/python3.10/dist-packages (from pinecone-client) (2024.2.2)\n",
            "Requirement already satisfied: tqdm>=4.64.1 in /usr/local/lib/python3.10/dist-packages (from pinecone-client) (4.66.2)\n",
            "Requirement already satisfied: typing-extensions>=3.7.4 in /usr/local/lib/python3.10/dist-packages (from pinecone-client) (4.10.0)\n",
            "Requirement already satisfied: urllib3>=1.26.0 in /usr/local/lib/python3.10/dist-packages (from pinecone-client) (2.0.7)\n"
          ]
        }
      ]
    },
    {
      "cell_type": "code",
      "source": [
        "from torch import cuda\n",
        "from langchain.embeddings.huggingface import HuggingFaceEmbeddings\n",
        "\n",
        "#loading embedding model from hugging face\n",
        "embedding_model = 'sentence-transformers/all-MiniLM-L6-v2'\n",
        "device = 'cuda:0' # make sure you are on gpu\n",
        "\n",
        "embed_model = HuggingFaceEmbeddings(\n",
        "    model_name=embedding_model,\n",
        "    model_kwargs={'device': device},\n",
        "    encode_kwargs={'device': device, 'batch_size': 32}\n",
        ")"
      ],
      "metadata": {
        "id": "Cu2csIgCtURo"
      },
      "execution_count": 29,
      "outputs": []
    },
    {
      "cell_type": "code",
      "source": [
        "#generating embeddings for our chunks\n",
        "embeddings = embed_model.embed_documents(df['text'])\n"
      ],
      "metadata": {
        "id": "xw7ptOdEu0Nl"
      },
      "execution_count": 30,
      "outputs": []
    },
    {
      "cell_type": "code",
      "source": [
        "print(\"number of chunks:\",len(embeddings))\n",
        "print(\"dimension of docs:\",len(embeddings[0]))"
      ],
      "metadata": {
        "colab": {
          "base_uri": "https://localhost:8080/"
        },
        "id": "h4ZIaZDhvlYy",
        "outputId": "a3d7f562-9f3d-476c-b5af-ee82776e0a3b"
      },
      "execution_count": 31,
      "outputs": [
        {
          "output_type": "stream",
          "name": "stdout",
          "text": [
            "number of chunks: 25797\n",
            "dimension of docs: 384\n"
          ]
        }
      ]
    },
    {
      "cell_type": "code",
      "source": [
        "import os\n",
        "from pinecone import Pinecone, ServerlessSpec\n",
        "\n",
        "# Get Pinecone API key and environment from environment variables\n",
        "pinecone_api_key = os.environ.get('PINECONE_API_KEY')\n",
        "\n",
        "# Create an instance of the Pinecone class\n",
        "pc = Pinecone(api_key=pinecone_api_key)\n"
      ],
      "metadata": {
        "id": "QcwFj50PXwZx"
      },
      "execution_count": 21,
      "outputs": []
    },
    {
      "cell_type": "code",
      "source": [
        "index_name = 'inlpt-project'\n",
        "\n",
        "if index_name not in pc.list_indexes().names():\n",
        "  pc.create_index(\n",
        "    name=index_name,\n",
        "    dimension=len(embeddings[0]),\n",
        "    metric='cosine',\n",
        "    spec=ServerlessSpec(\n",
        "      cloud=\"aws\",\n",
        "      region=\"us-central1\"\n",
        "    )\n",
        "  )"
      ],
      "metadata": {
        "id": "jkluwx-qYk6k"
      },
      "execution_count": 23,
      "outputs": []
    },
    {
      "cell_type": "code",
      "source": [
        "index_name = 'inlpt-project'\n",
        "index = pc.Index(index_name)\n",
        "index.describe_index_stats()"
      ],
      "metadata": {
        "colab": {
          "base_uri": "https://localhost:8080/"
        },
        "id": "g50nmUaNeJ0_",
        "outputId": "3532698b-29ef-47b1-e3d0-bd36699e2395"
      },
      "execution_count": 24,
      "outputs": [
        {
          "output_type": "execute_result",
          "data": {
            "text/plain": [
              "{'dimension': 384,\n",
              " 'index_fullness': 0.0,\n",
              " 'namespaces': {},\n",
              " 'total_vector_count': 0}"
            ]
          },
          "metadata": {},
          "execution_count": 24
        }
      ]
    },
    {
      "cell_type": "code",
      "source": [
        "#Push embeddings and meta data to Pincone in batches\n",
        "batch_size = 32\n",
        "\n",
        "for i in range(0, len(df), batch_size):\n",
        "    i_end = min(len(df), i+batch_size)\n",
        "    batch = df.iloc[i:i_end]\n",
        "    ids = [f\"{x['id']}\" for i, x in batch.iterrows()]\n",
        "    texts = [x['text'] for i, x in batch.iterrows()]\n",
        "    embeds = embed_model.embed_documents(texts)\n",
        "    # get metadata to store in Pinecone\n",
        "    metadata = [\n",
        "        {'text': x['text'],\n",
        "         'CELEX number': x['CELEX number']} for i, x in batch.iterrows()\n",
        "    ]\n",
        "    index.upsert(vectors=zip(ids, embeds, metadata))\n",
        "\n",
        "\n"
      ],
      "metadata": {
        "id": "URr_Q4rGgjTA"
      },
      "execution_count": 26,
      "outputs": []
    },
    {
      "cell_type": "code",
      "source": [
        "index.describe_index_stats()"
      ],
      "metadata": {
        "colab": {
          "base_uri": "https://localhost:8080/"
        },
        "id": "QOmd0IS-m1YD",
        "outputId": "cd556f4a-42d6-48f6-b3ea-99c8f6c8a34b"
      },
      "execution_count": 27,
      "outputs": [
        {
          "output_type": "execute_result",
          "data": {
            "text/plain": [
              "{'dimension': 384,\n",
              " 'index_fullness': 0.25797,\n",
              " 'namespaces': {'': {'vector_count': 25797}},\n",
              " 'total_vector_count': 25797}"
            ]
          },
          "metadata": {},
          "execution_count": 27
        }
      ]
    }
  ]
}